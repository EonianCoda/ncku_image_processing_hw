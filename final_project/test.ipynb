{
 "cells": [
  {
   "cell_type": "code",
   "execution_count": 38,
   "metadata": {},
   "outputs": [],
   "source": [
    "import json\n",
    "import os\n",
    "import shutil\n",
    "import cv2\n",
    "import numpy as np\n",
    "from imantics import Polygons, Mask"
   ]
  },
  {
   "cell_type": "code",
   "execution_count": 66,
   "metadata": {},
   "outputs": [
    {
     "ename": "ValueError",
     "evalue": "all input arrays must have the same shape",
     "output_type": "error",
     "traceback": [
      "\u001b[1;31m---------------------------------------------------------------------------\u001b[0m",
      "\u001b[1;31mValueError\u001b[0m                                Traceback (most recent call last)",
      "\u001b[1;32m~\\AppData\\Local\\Temp\\ipykernel_15032\\1991151322.py\u001b[0m in \u001b[0;36m<module>\u001b[1;34m\u001b[0m\n\u001b[0;32m     55\u001b[0m                     os.path.join(new_data_root, 'images', new_name))\n\u001b[0;32m     56\u001b[0m             \u001b[0mmask_path\u001b[0m \u001b[1;33m=\u001b[0m \u001b[0mos\u001b[0m\u001b[1;33m.\u001b[0m\u001b[0mpath\u001b[0m\u001b[1;33m.\u001b[0m\u001b[0mjoin\u001b[0m\u001b[1;33m(\u001b[0m\u001b[0mcls_root\u001b[0m\u001b[1;33m,\u001b[0m \u001b[1;34m'mask'\u001b[0m\u001b[1;33m,\u001b[0m \u001b[0mname\u001b[0m\u001b[1;33m)\u001b[0m\u001b[1;33m\u001b[0m\u001b[1;33m\u001b[0m\u001b[0m\n\u001b[1;32m---> 57\u001b[1;33m             \u001b[0mpolygons\u001b[0m \u001b[1;33m=\u001b[0m \u001b[0mmask_to_polygons\u001b[0m\u001b[1;33m(\u001b[0m\u001b[0mmask_path\u001b[0m\u001b[1;33m)\u001b[0m\u001b[1;33m\u001b[0m\u001b[1;33m\u001b[0m\u001b[0m\n\u001b[0m\u001b[0;32m     58\u001b[0m             \u001b[0myolov7_txt_file_name\u001b[0m \u001b[1;33m=\u001b[0m \u001b[1;34mf\"{name_idx}.txt\"\u001b[0m\u001b[1;33m\u001b[0m\u001b[1;33m\u001b[0m\u001b[0m\n\u001b[0;32m     59\u001b[0m             \u001b[0mgen_yolov7_txt\u001b[0m\u001b[1;33m(\u001b[0m\u001b[0mpolygons\u001b[0m\u001b[1;33m,\u001b[0m \u001b[0mcls_idx\u001b[0m\u001b[1;33m,\u001b[0m \u001b[0mos\u001b[0m\u001b[1;33m.\u001b[0m\u001b[0mpath\u001b[0m\u001b[1;33m.\u001b[0m\u001b[0mjoin\u001b[0m\u001b[1;33m(\u001b[0m\u001b[0mnew_data_root\u001b[0m\u001b[1;33m,\u001b[0m \u001b[1;34m'labels'\u001b[0m\u001b[1;33m,\u001b[0m \u001b[0myolov7_txt_file_name\u001b[0m\u001b[1;33m)\u001b[0m\u001b[1;33m)\u001b[0m\u001b[1;33m\u001b[0m\u001b[1;33m\u001b[0m\u001b[0m\n",
      "\u001b[1;32m~\\AppData\\Local\\Temp\\ipykernel_15032\\1991151322.py\u001b[0m in \u001b[0;36mmask_to_polygons\u001b[1;34m(mask_path)\u001b[0m\n\u001b[0;32m     30\u001b[0m     \u001b[0mh\u001b[0m\u001b[1;33m,\u001b[0m \u001b[0mw\u001b[0m \u001b[1;33m=\u001b[0m \u001b[0mim\u001b[0m\u001b[1;33m.\u001b[0m\u001b[0mshape\u001b[0m\u001b[1;33m\u001b[0m\u001b[1;33m\u001b[0m\u001b[0m\n\u001b[0;32m     31\u001b[0m     \u001b[0mpolygons\u001b[0m \u001b[1;33m=\u001b[0m \u001b[0mMask\u001b[0m\u001b[1;33m(\u001b[0m\u001b[0mim\u001b[0m\u001b[1;33m)\u001b[0m\u001b[1;33m.\u001b[0m\u001b[0mpolygons\u001b[0m\u001b[1;33m(\u001b[0m\u001b[1;33m)\u001b[0m\u001b[1;33m\u001b[0m\u001b[1;33m\u001b[0m\u001b[0m\n\u001b[1;32m---> 32\u001b[1;33m     \u001b[0mpoints\u001b[0m \u001b[1;33m=\u001b[0m \u001b[0mnp\u001b[0m\u001b[1;33m.\u001b[0m\u001b[0mstack\u001b[0m\u001b[1;33m(\u001b[0m\u001b[0mpolygons\u001b[0m\u001b[1;33m.\u001b[0m\u001b[0mpoints\u001b[0m\u001b[1;33m,\u001b[0m \u001b[0maxis\u001b[0m\u001b[1;33m=\u001b[0m\u001b[1;36m0\u001b[0m\u001b[1;33m)\u001b[0m\u001b[1;33m\u001b[0m\u001b[1;33m\u001b[0m\u001b[0m\n\u001b[0m\u001b[0;32m     33\u001b[0m     \u001b[0mpoints\u001b[0m \u001b[1;33m=\u001b[0m \u001b[0mpoints\u001b[0m\u001b[1;33m.\u001b[0m\u001b[0mastype\u001b[0m\u001b[1;33m(\u001b[0m\u001b[0mnp\u001b[0m\u001b[1;33m.\u001b[0m\u001b[0mfloat32\u001b[0m\u001b[1;33m)\u001b[0m\u001b[1;33m\u001b[0m\u001b[1;33m\u001b[0m\u001b[0m\n\u001b[0;32m     34\u001b[0m     \u001b[1;31m# x\u001b[0m\u001b[1;33m\u001b[0m\u001b[1;33m\u001b[0m\u001b[1;33m\u001b[0m\u001b[0m\n",
      "\u001b[1;32m<__array_function__ internals>\u001b[0m in \u001b[0;36mstack\u001b[1;34m(*args, **kwargs)\u001b[0m\n",
      "\u001b[1;32mc:\\Users\\RL-PC\\AppData\\Local\\Continuum\\anaconda3\\envs\\image_processing_hw\\lib\\site-packages\\numpy\\core\\shape_base.py\u001b[0m in \u001b[0;36mstack\u001b[1;34m(arrays, axis, out)\u001b[0m\n\u001b[0;32m    424\u001b[0m     \u001b[0mshapes\u001b[0m \u001b[1;33m=\u001b[0m \u001b[1;33m{\u001b[0m\u001b[0marr\u001b[0m\u001b[1;33m.\u001b[0m\u001b[0mshape\u001b[0m \u001b[1;32mfor\u001b[0m \u001b[0marr\u001b[0m \u001b[1;32min\u001b[0m \u001b[0marrays\u001b[0m\u001b[1;33m}\u001b[0m\u001b[1;33m\u001b[0m\u001b[1;33m\u001b[0m\u001b[0m\n\u001b[0;32m    425\u001b[0m     \u001b[1;32mif\u001b[0m \u001b[0mlen\u001b[0m\u001b[1;33m(\u001b[0m\u001b[0mshapes\u001b[0m\u001b[1;33m)\u001b[0m \u001b[1;33m!=\u001b[0m \u001b[1;36m1\u001b[0m\u001b[1;33m:\u001b[0m\u001b[1;33m\u001b[0m\u001b[1;33m\u001b[0m\u001b[0m\n\u001b[1;32m--> 426\u001b[1;33m         \u001b[1;32mraise\u001b[0m \u001b[0mValueError\u001b[0m\u001b[1;33m(\u001b[0m\u001b[1;34m'all input arrays must have the same shape'\u001b[0m\u001b[1;33m)\u001b[0m\u001b[1;33m\u001b[0m\u001b[1;33m\u001b[0m\u001b[0m\n\u001b[0m\u001b[0;32m    427\u001b[0m \u001b[1;33m\u001b[0m\u001b[0m\n\u001b[0;32m    428\u001b[0m     \u001b[0mresult_ndim\u001b[0m \u001b[1;33m=\u001b[0m \u001b[0marrays\u001b[0m\u001b[1;33m[\u001b[0m\u001b[1;36m0\u001b[0m\u001b[1;33m]\u001b[0m\u001b[1;33m.\u001b[0m\u001b[0mndim\u001b[0m \u001b[1;33m+\u001b[0m \u001b[1;36m1\u001b[0m\u001b[1;33m\u001b[0m\u001b[1;33m\u001b[0m\u001b[0m\n",
      "\u001b[1;31mValueError\u001b[0m: all input arrays must have the same shape"
     ]
    }
   ],
   "source": [
    "def copy_file(src: str, dst: str) -> None:\n",
    "    os.makedirs(os.path.dirname(dst), exist_ok=True)\n",
    "    if not os.path.exists(dst):\n",
    "        shutil.copy(src , dst)\n",
    "\n",
    "def gen_yolov7_txt(polygons:np.ndarray, cls:int, save_path: str):\n",
    "    \"\"\"\n",
    "    Args:\n",
    "        polygons: a array contain multiple line of [x1, y1, x2, y2, ... xn, yn]\n",
    "        cls: the index of class\n",
    "        save_path: A path for saving text file of yolov7 format \n",
    "    \"\"\"\n",
    "    lines = []\n",
    "    for points in polygons:\n",
    "        line = [str(cls)]\n",
    "        line.extend([v for v in points])\n",
    "        line = ' '.join(line) + '\\n'\n",
    "        lines.append(line)\n",
    "\n",
    "    os.makedirs(os.path.dirname(save_path), exist_ok=True)\n",
    "    with open(save_path, 'w') as f:\n",
    "        f.writelines(lines)\n",
    "\n",
    "def mask_to_polygons(mask_path: str) -> np.ndarray:\n",
    "    im = cv2.imread(mask_path, 0)\n",
    "    unique = np.unique(im)\n",
    "    if len(unique) != 2:\n",
    "        raise ValueError(\"Some Error in {}\".format(mask_path))\n",
    "    ret, im = cv2.threshold(im, unique[1] - 1, 255, cv2.THRESH_BINARY)\n",
    "    h, w = im.shape\n",
    "    polygons = Mask(im).polygons()\n",
    "\n",
    "    normalized_points = []\n",
    "    for points in polygons.points:\n",
    "        points = points.astype(np.float32)\n",
    "        points[..., 0] /= w # x\n",
    "        points[..., 1] /= h # y\n",
    "        normalized_points.append(points)\n",
    "\n",
    "    # Reshape into multuple line of [x1, y1, x2, y2, ... xn, yn]\n",
    "    return normalized_points\n",
    "\n",
    "\n",
    "class_names = ['powder_uncover', 'powder_uneven', 'scratch']\n",
    "for split_name in ['Train', 'Val']:\n",
    "    data_root = os.path.join('./origin_data', split_name)\n",
    "    new_data_root = os.path.join('./data', split_name)\n",
    "\n",
    "    name_idx = 0\n",
    "    for cls_idx, cls in enumerate(class_names):\n",
    "        cls_root = os.path.join(data_root, cls)\n",
    "        for name in os.listdir(os.path.join(cls_root, 'image')):\n",
    "            # Rename and move image\n",
    "            new_name = f'{name_idx}.png'\n",
    "            copy_file(os.path.join(cls_root, 'image', name), \n",
    "                    os.path.join(new_data_root, 'images', new_name))\n",
    "            mask_path = os.path.join(cls_root, 'mask', name)\n",
    "            polygons = mask_to_polygons(mask_path)\n",
    "            yolov7_txt_file_name = f\"{name_idx}.txt\"\n",
    "            gen_yolov7_txt(polygons, cls_idx, os.path.join(new_data_root, 'labels', yolov7_txt_file_name))\n",
    "            name_idx += 1"
   ]
  },
  {
   "cell_type": "code",
   "execution_count": 39,
   "metadata": {},
   "outputs": [
    {
     "data": {
      "text/plain": [
       "array([[[0.46969697, 0.00160772],\n",
       "        [0.46969697, 0.99678457],\n",
       "        [0.48883572, 0.99678457],\n",
       "        [0.48883572, 0.00160772]],\n",
       "\n",
       "       [[0.40350878, 0.        ],\n",
       "        [0.40350878, 0.9975884 ],\n",
       "        [0.41786283, 0.9975884 ],\n",
       "        [0.41786283, 0.        ]],\n",
       "\n",
       "       [[0.33173844, 0.        ],\n",
       "        [0.33173844, 0.9959807 ],\n",
       "        [0.34688994, 0.9959807 ],\n",
       "        [0.34688994, 0.        ]]], dtype=float32)"
      ]
     },
     "execution_count": 39,
     "metadata": {},
     "output_type": "execute_result"
    }
   ],
   "source": []
  },
  {
   "cell_type": "code",
   "execution_count": 4,
   "metadata": {},
   "outputs": [],
   "source": [
    "label_dir = Path('./data/Train/scratch/label/')\n",
    "label_files = [label_dir / f for f in os.listdir(label_dir)]"
   ]
  },
  {
   "cell_type": "code",
   "execution_count": 8,
   "metadata": {},
   "outputs": [],
   "source": [
    "with open(label_files[0], 'r') as f:\n",
    "    data = json.load(f)"
   ]
  },
  {
   "cell_type": "code",
   "execution_count": 22,
   "metadata": {},
   "outputs": [],
   "source": [
    "\n",
    "\n",
    "# This can be any array\n",
    "img_path = './origin_data/Train/scratch/mask/Converted_ 0003.png'\n",
    "\n"
   ]
  },
  {
   "cell_type": "code",
   "execution_count": 37,
   "metadata": {},
   "outputs": [
    {
     "data": {
      "text/plain": [
       "array([[0.46969697, 0.00160772, 0.46969697, 0.99678457, 0.48883572,\n",
       "        0.99678457, 0.48883572, 0.00160772],\n",
       "       [0.40350878, 0.        , 0.40350878, 0.9975884 , 0.41786283,\n",
       "        0.9975884 , 0.41786283, 0.        ],\n",
       "       [0.33173844, 0.        , 0.33173844, 0.9959807 , 0.34688994,\n",
       "        0.9959807 , 0.34688994, 0.        ]], dtype=float32)"
      ]
     },
     "execution_count": 37,
     "metadata": {},
     "output_type": "execute_result"
    }
   ],
   "source": [
    "points.reshape(3, -1)"
   ]
  },
  {
   "cell_type": "code",
   "execution_count": 36,
   "metadata": {},
   "outputs": [
    {
     "data": {
      "text/plain": [
       "array([[[0.46969697, 0.00160772],\n",
       "        [0.46969697, 0.99678457],\n",
       "        [0.48883572, 0.99678457],\n",
       "        [0.48883572, 0.00160772]],\n",
       "\n",
       "       [[0.40350878, 0.        ],\n",
       "        [0.40350878, 0.9975884 ],\n",
       "        [0.41786283, 0.9975884 ],\n",
       "        [0.41786283, 0.        ]],\n",
       "\n",
       "       [[0.33173844, 0.        ],\n",
       "        [0.33173844, 0.9959807 ],\n",
       "        [0.34688994, 0.9959807 ],\n",
       "        [0.34688994, 0.        ]]], dtype=float32)"
      ]
     },
     "execution_count": 36,
     "metadata": {},
     "output_type": "execute_result"
    }
   ],
   "source": [
    "points"
   ]
  },
  {
   "cell_type": "code",
   "execution_count": null,
   "metadata": {},
   "outputs": [],
   "source": [
    "np.flatt"
   ]
  },
  {
   "cell_type": "code",
   "execution_count": 32,
   "metadata": {},
   "outputs": [
    {
     "data": {
      "text/plain": [
       "array([[[ 589,    2],\n",
       "        [ 589, 1240],\n",
       "        [ 613, 1240],\n",
       "        [ 613,    2]],\n",
       "\n",
       "       [[ 506,    0],\n",
       "        [ 506, 1241],\n",
       "        [ 524, 1241],\n",
       "        [ 524,    0]],\n",
       "\n",
       "       [[ 416,    0],\n",
       "        [ 416, 1239],\n",
       "        [ 435, 1239],\n",
       "        [ 435,    0]]])"
      ]
     },
     "execution_count": 32,
     "metadata": {},
     "output_type": "execute_result"
    }
   ],
   "source": [
    "np.array(polygons.points)"
   ]
  },
  {
   "cell_type": "code",
   "execution_count": null,
   "metadata": {},
   "outputs": [],
   "source": []
  },
  {
   "cell_type": "code",
   "execution_count": 34,
   "metadata": {},
   "outputs": [
    {
     "data": {
      "text/plain": [
       "array([[[0.46969697, 0.00160772],\n",
       "        [0.46969697, 0.99678457],\n",
       "        [0.48883572, 0.99678457],\n",
       "        [0.48883572, 0.00160772]],\n",
       "\n",
       "       [[0.40350878, 0.        ],\n",
       "        [0.40350878, 0.9975884 ],\n",
       "        [0.41786283, 0.9975884 ],\n",
       "        [0.41786283, 0.        ]],\n",
       "\n",
       "       [[0.33173844, 0.        ],\n",
       "        [0.33173844, 0.9959807 ],\n",
       "        [0.34688994, 0.9959807 ],\n",
       "        [0.34688994, 0.        ]]], dtype=float32)"
      ]
     },
     "execution_count": 34,
     "metadata": {},
     "output_type": "execute_result"
    }
   ],
   "source": []
  },
  {
   "cell_type": "code",
   "execution_count": 25,
   "metadata": {},
   "outputs": [],
   "source": []
  },
  {
   "cell_type": "code",
   "execution_count": 27,
   "metadata": {},
   "outputs": [
    {
     "data": {
      "text/plain": [
       "[array([[ 589,    2],\n",
       "        [ 589, 1240],\n",
       "        [ 613, 1240],\n",
       "        [ 613,    2]]),\n",
       " array([[ 506,    0],\n",
       "        [ 506, 1241],\n",
       "        [ 524, 1241],\n",
       "        [ 524,    0]]),\n",
       " array([[ 416,    0],\n",
       "        [ 416, 1239],\n",
       "        [ 435, 1239],\n",
       "        [ 435,    0]])]"
      ]
     },
     "execution_count": 27,
     "metadata": {},
     "output_type": "execute_result"
    }
   ],
   "source": []
  },
  {
   "cell_type": "code",
   "execution_count": null,
   "metadata": {},
   "outputs": [],
   "source": []
  }
 ],
 "metadata": {
  "kernelspec": {
   "display_name": "image_processing_hw",
   "language": "python",
   "name": "python3"
  },
  "language_info": {
   "codemirror_mode": {
    "name": "ipython",
    "version": 3
   },
   "file_extension": ".py",
   "mimetype": "text/x-python",
   "name": "python",
   "nbconvert_exporter": "python",
   "pygments_lexer": "ipython3",
   "version": "3.7.15"
  },
  "orig_nbformat": 4,
  "vscode": {
   "interpreter": {
    "hash": "bd510d43b4e13de162fc94ad5691729e543b6d28c568686e42552f04c2342686"
   }
  }
 },
 "nbformat": 4,
 "nbformat_minor": 2
}
