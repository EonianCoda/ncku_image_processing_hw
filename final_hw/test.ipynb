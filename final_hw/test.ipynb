{
 "cells": [
  {
   "cell_type": "code",
   "execution_count": 1,
   "metadata": {},
   "outputs": [],
   "source": [
    "import json\n",
    "import os\n",
    "import shutil\n",
    "import cv2\n",
    "import threading\n",
    "import numpy as np\n",
    "from imantics import Polygons, Mask\n",
    "import logging\n",
    "from tqdm import tqdm"
   ]
  },
  {
   "cell_type": "code",
   "execution_count": 2,
   "metadata": {},
   "outputs": [],
   "source": [
    "def setup_logging(level='info', log_file=None):\n",
    "    \"\"\"Initialize logging settings.\"\"\"\n",
    "    import logging\n",
    "    from logging import basicConfig\n",
    "\n",
    "    from rich.console import Console\n",
    "    from rich.logging import RichHandler\n",
    "\n",
    "    if isinstance(level, str):\n",
    "        level = level.upper()\n",
    "\n",
    "    handlers = []\n",
    "    if log_file:\n",
    "        fh = logging.FileHandler(log_file)\n",
    "        formatter = logging.Formatter(\n",
    "            '%(asctime)s %(levelname)s %(message)s %(filename)s:%(lineno)d'\n",
    "        )\n",
    "        fh.setFormatter(formatter)\n",
    "        handlers.append(fh)\n",
    "\n",
    "    console = Console(width=160)\n",
    "    handlers.append(RichHandler(console=console))\n",
    "    basicConfig(level=level, format='%(message)s',\n",
    "                datefmt='[%X]', handlers=handlers)\n",
    "setup_logging()"
   ]
  },
  {
   "cell_type": "code",
   "execution_count": 3,
   "metadata": {},
   "outputs": [
    {
     "name": "stderr",
     "output_type": "stream",
     "text": [
      "100%|██████████| 100/100 [00:40<00:00,  2.46it/s]\n",
      "100%|██████████| 100/100 [00:39<00:00,  2.55it/s]\n",
      "100%|██████████| 100/100 [00:02<00:00, 39.65it/s]\n",
      "100%|██████████| 50/50 [00:20<00:00,  2.50it/s]\n",
      "100%|██████████| 50/50 [00:19<00:00,  2.59it/s]\n",
      "100%|██████████| 50/50 [00:01<00:00, 40.59it/s]\n"
     ]
    }
   ],
   "source": [
    "class_names = ['powder_uncover', 'powder_uneven', 'scratch']\n",
    "class_mapping = {name : i for i, name in enumerate(class_names)}\n",
    "\n",
    "logger = logging.getLogger()\n",
    "\n",
    "def copy_file(src: str, dst: str) -> None:\n",
    "    os.makedirs(os.path.dirname(dst), exist_ok=True)\n",
    "    if not os.path.exists(dst):\n",
    "        shutil.copy(src , dst)\n",
    "\n",
    "def gen_yolov5_txt(origin_h: float , \n",
    "                    origin_w: float,\n",
    "                    label_file_path: str, \n",
    "                    txt_file_name: str, \n",
    "                    txt_file_root: str, \n",
    "                    cls_idx: int):\n",
    "    with open(label_file_path, 'r') as f:\n",
    "        data = json.load(f)\n",
    "\n",
    "    os.makedirs(txt_file_root, exist_ok=True)\n",
    "    rects = [label['points'] for label in data['shapes']]\n",
    "    lines = []\n",
    "    for rect in rects:\n",
    "        lt_x, lt_y = rect[0] # left top x, y\n",
    "        rb_x, rb_y = rect[1] # right bottom x, y\n",
    "        center_x = ((lt_x + rb_x) / 2) / origin_w\n",
    "        center_y = ((lt_y + rb_y) / 2) / origin_h\n",
    "        w, h = (rb_x - lt_x) / origin_w, (rb_y - lt_y) / origin_h\n",
    "        w = abs(w)\n",
    "        h = abs(h)\n",
    "        # if w < 0 or h < 0:\n",
    "        #     print(label_file_path)\n",
    "        #     logger.warning(\"W or h is less than 0\")\n",
    "        #     continue\n",
    "        line = [int(cls_idx), center_x, center_y, w, h]\n",
    "        line = [str(element) for element in line]\n",
    "        line = ' '.join(line) + '\\n'\n",
    "        lines.append(line)\n",
    "    with open(os.path.join(txt_file_root, txt_file_name), 'w') as f:\n",
    "        f.writelines(lines)\n",
    "\n",
    "\n",
    "for split_name in ['Train', 'Val']:\n",
    "    data_root = os.path.join('./origin_data', split_name)\n",
    "    new_data_root = os.path.join('./yolov5_data', split_name)\n",
    "\n",
    "    name_idx = 0\n",
    "    for cls_idx, cls in enumerate(class_names):\n",
    "        cls_root = os.path.join(data_root, cls)\n",
    "        for name in tqdm(os.listdir(os.path.join(cls_root, 'image'))):\n",
    "            # Rename and move image\n",
    "            new_name = f'{name_idx}.png'\n",
    "            copy_file(os.path.join(cls_root, 'image', name), \n",
    "                    os.path.join(new_data_root, 'images', new_name))\n",
    "\n",
    "            im = cv2.imread(os.path.join(new_data_root, 'images', new_name))\n",
    "            h, w, c = im.shape\n",
    "            txt_file_name = f'{name_idx}.txt'\n",
    "            txt_file_root = os.path.join(new_data_root, 'label')\n",
    "            label_file_path = os.path.join(cls_root, 'label', name.split('.')[0] + '.json')\n",
    "            gen_yolov5_txt(h, w, label_file_path, txt_file_name, txt_file_root, cls_idx)\n",
    "            name_idx += 1"
   ]
  }
 ],
 "metadata": {
  "kernelspec": {
   "display_name": "yolov5",
   "language": "python",
   "name": "python3"
  },
  "language_info": {
   "codemirror_mode": {
    "name": "ipython",
    "version": 3
   },
   "file_extension": ".py",
   "mimetype": "text/x-python",
   "name": "python",
   "nbconvert_exporter": "python",
   "pygments_lexer": "ipython3",
   "version": "3.7.15 (default, Nov 24 2022, 18:44:54) [MSC v.1916 64 bit (AMD64)]"
  },
  "orig_nbformat": 4,
  "vscode": {
   "interpreter": {
    "hash": "64403dee5e0958e81c767fc1b20107f740770bd4aea477e569d2bae5927e4c0f"
   }
  }
 },
 "nbformat": 4,
 "nbformat_minor": 2
}
