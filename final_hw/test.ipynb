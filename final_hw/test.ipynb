{
 "cells": [
  {
   "cell_type": "code",
   "execution_count": 1,
   "metadata": {},
   "outputs": [],
   "source": [
    "import json\n",
    "import os\n",
    "import shutil\n",
    "import cv2\n",
    "import threading\n",
    "import numpy as np\n",
    "from imantics import Polygons, Mask\n",
    "import logging\n",
    "from tqdm import tqdm"
   ]
  },
  {
   "cell_type": "code",
   "execution_count": 13,
   "metadata": {},
   "outputs": [],
   "source": [
    "import torch\n",
    "def box_iou(box1, box2, eps=1e-7):\n",
    "    # https://github.com/pytorch/vision/blob/master/torchvision/ops/boxes.py\n",
    "    \"\"\"\n",
    "    Return intersection-over-union (Jaccard index) of boxes.\n",
    "    Both sets of boxes are expected to be in (x1, y1, x2, y2) format.\n",
    "    Arguments:\n",
    "        box1 (Tensor[N, 4])\n",
    "        box2 (Tensor[M, 4])\n",
    "    Returns:\n",
    "        iou (Tensor[N, M]): the NxM matrix containing the pairwise\n",
    "            IoU values for every element in boxes1 and boxes2\n",
    "    \"\"\"\n",
    "\n",
    "    # inter(N,M) = (rb(N,M,2) - lt(N,M,2)).clamp(0).prod(2)\n",
    "    (a1, a2), (b1, b2) = box1.unsqueeze(1).chunk(2, 2), box2.unsqueeze(0).chunk(2, 2)\n",
    "    inter = (torch.min(a2, b2) - torch.max(a1, b1)).clamp(0).prod(2)\n",
    "\n",
    "    # IoU = inter / (area1 + area2 - inter)\n",
    "    return inter / ((a2 - a1).prod(2) + (b2 - b1).prod(2) - inter + eps)"
   ]
  },
  {
   "cell_type": "code",
   "execution_count": 14,
   "metadata": {},
   "outputs": [
    {
     "data": {
      "text/plain": [
       "tensor([[0.1429]])"
      ]
     },
     "execution_count": 14,
     "metadata": {},
     "output_type": "execute_result"
    }
   ],
   "source": [
    "box1 = torch.tensor([[1,1,3,3]])\n",
    "box2 = torch.tensor([[2,2,4,4]])"
   ]
  },
  {
   "cell_type": "code",
   "execution_count": null,
   "metadata": {},
   "outputs": [],
   "source": [
    "import os\n",
    "from collections import defaultdict\n",
    "label_root = './data/yolov5/Train/labels'\n",
    "areas = []\n",
    "resize = 1024\n",
    "total_areas = [3384*3340 , 1254*1244]\n",
    "ratios = [r / (resize ** 2) for r in total_areas]\n",
    "class_names = ['powder_uncover', 'powder_uneven', 'scratch']\n",
    "\n",
    "areas_count = defaultdict(list)\n",
    "for f in os.listdir(label_root):\n",
    "    path = os.path.join(label_root, f)\n",
    "    with open(path, 'r') as f:\n",
    "        lines = f.readlines()\n",
    "    for line in lines:\n",
    "        w, h = line.split(' ')[-2:]\n",
    "        cls_idx = int(line.split(' ')[0])\n",
    "\n",
    "        w, h= float(w), float(h)\n",
    "        if cls_idx <= 1:\n",
    "            total_area = total_areas[0]\n",
    "            ratio = ratios[0]\n",
    "        else:\n",
    "            total_area = total_areas[1]\n",
    "            ratio = ratios[1]\n",
    "        area = w * h #(w * h * total_area) / ratio\n",
    "        areas.append(area)\n",
    "        areas_count[cls_idx].append(area)"
   ]
  },
  {
   "cell_type": "code",
   "execution_count": 30,
   "metadata": {},
   "outputs": [],
   "source": [
    "import os\n",
    "from collections import defaultdict\n",
    "label_root = './data/yolov5/Train/labels'\n",
    "areas = []\n",
    "resize = 1024\n",
    "total_areas = [3384*3340 , 1254*1244]\n",
    "ratios = [r / (resize ** 2) for r in total_areas]\n",
    "class_names = ['powder_uncover', 'powder_uneven', 'scratch']\n",
    "\n",
    "areas_count = defaultdict(list)\n",
    "for f in os.listdir(label_root):\n",
    "    path = os.path.join(label_root, f)\n",
    "    with open(path, 'r') as f:\n",
    "        lines = f.readlines()\n",
    "    for line in lines:\n",
    "        w, h = line.split(' ')[-2:]\n",
    "        cls_idx = int(line.split(' ')[0])\n",
    "\n",
    "        w, h= float(w), float(h)\n",
    "        if cls_idx <= 1:\n",
    "            total_area = total_areas[0]\n",
    "            ratio = ratios[0]\n",
    "        else:\n",
    "            total_area = total_areas[1]\n",
    "            ratio = ratios[1]\n",
    "        area = w * h #(w * h * total_area) / ratio\n",
    "        areas.append(area)\n",
    "        areas_count[cls_idx].append(area)"
   ]
  },
  {
   "cell_type": "code",
   "execution_count": 52,
   "metadata": {},
   "outputs": [
    {
     "data": {
      "text/plain": [
       "184"
      ]
     },
     "execution_count": 52,
     "metadata": {},
     "output_type": "execute_result"
    }
   ],
   "source": [
    "areas = np.array(areas)\n",
    "mean = np.mean(areas)\n",
    "std = np.std(areas)\n",
    "np.count_nonzero(areas_count[0] < (mean))"
   ]
  },
  {
   "cell_type": "code",
   "execution_count": 53,
   "metadata": {},
   "outputs": [
    {
     "data": {
      "text/plain": [
       "0.012371491731924311"
      ]
     },
     "execution_count": 53,
     "metadata": {},
     "output_type": "execute_result"
    }
   ],
   "source": [
    "mean - std / 2"
   ]
  },
  {
   "cell_type": "code",
   "execution_count": 45,
   "metadata": {},
   "outputs": [
    {
     "data": {
      "text/plain": [
       "0.04562134803905578"
      ]
     },
     "execution_count": 45,
     "metadata": {},
     "output_type": "execute_result"
    }
   ],
   "source": [
    "std"
   ]
  },
  {
   "cell_type": "code",
   "execution_count": 35,
   "metadata": {},
   "outputs": [
    {
     "data": {
      "text/plain": [
       "442"
      ]
     },
     "execution_count": 35,
     "metadata": {},
     "output_type": "execute_result"
    }
   ],
   "source": [
    "np.count_nonzero(np.array(areas) < np.array(areas).mean())"
   ]
  },
  {
   "cell_type": "code",
   "execution_count": 24,
   "metadata": {},
   "outputs": [
    {
     "data": {
      "image/png": "[encoded data removed]",
      "text/plain": [
       "<Figure size 640x480 with 1 Axes>"
      ]
     },
     "metadata": {},
     "output_type": "display_data"
    }
   ],
   "source": [
    "import matplotlib.pyplot as plt\n",
    "import numpy as np\n",
    "for cls_idx, count in areas_count.items():\n",
    "    count.sort()\n",
    "    plt.plot(range(len(count)), count, label=class_names[cls_idx])\n",
    "plt.legend()\n",
    "plt.show()"
   ]
  },
  {
   "cell_type": "code",
   "execution_count": 18,
   "metadata": {},
   "outputs": [],
   "source": [
    "import matplotlib.pyplot as plt\n",
    "import numpy as np\n",
    "areas = np.array(areas)"
   ]
  },
  {
   "cell_type": "code",
   "execution_count": 19,
   "metadata": {},
   "outputs": [
    {
     "data": {
      "text/plain": [
       "[<matplotlib.lines.Line2D at 0x1f77fd4b988>]"
      ]
     },
     "execution_count": 19,
     "metadata": {},
     "output_type": "execute_result"
    },
    {
     "data": {
      "image/png": "[encoded data removed]",
      "text/plain": [
       "<Figure size 640x480 with 1 Axes>"
      ]
     },
     "metadata": {},
     "output_type": "display_data"
    }
   ],
   "source": [
    "plt.plot(range(len(areas)), areas)"
   ]
  },
  {
   "cell_type": "code",
   "execution_count": 2,
   "metadata": {},
   "outputs": [],
   "source": [
    "def setup_logging(level='info', log_file=None):\n",
    "    \"\"\"Initialize logging settings.\"\"\"\n",
    "    import logging\n",
    "    from logging import basicConfig\n",
    "\n",
    "    from rich.console import Console\n",
    "    from rich.logging import RichHandler\n",
    "\n",
    "    if isinstance(level, str):\n",
    "        level = level.upper()\n",
    "\n",
    "    handlers = []\n",
    "    if log_file:\n",
    "        fh = logging.FileHandler(log_file)\n",
    "        formatter = logging.Formatter(\n",
    "            '%(asctime)s %(levelname)s %(message)s %(filename)s:%(lineno)d'\n",
    "        )\n",
    "        fh.setFormatter(formatter)\n",
    "        handlers.append(fh)\n",
    "\n",
    "    console = Console(width=160)\n",
    "    handlers.append(RichHandler(console=console))\n",
    "    basicConfig(level=level, format='%(message)s',\n",
    "                datefmt='[%X]', handlers=handlers)\n",
    "setup_logging()"
   ]
  },
  {
   "cell_type": "code",
   "execution_count": 3,
   "metadata": {},
   "outputs": [
    {
     "name": "stderr",
     "output_type": "stream",
     "text": [
      "100%|██████████| 100/100 [00:40<00:00,  2.46it/s]\n",
      "100%|██████████| 100/100 [00:39<00:00,  2.55it/s]\n",
      "100%|██████████| 100/100 [00:02<00:00, 39.65it/s]\n",
      "100%|██████████| 50/50 [00:20<00:00,  2.50it/s]\n",
      "100%|██████████| 50/50 [00:19<00:00,  2.59it/s]\n",
      "100%|██████████| 50/50 [00:01<00:00, 40.59it/s]\n"
     ]
    }
   ],
   "source": [
    "class_names = ['powder_uncover', 'powder_uneven', 'scratch']\n",
    "class_mapping = {name : i for i, name in enumerate(class_names)}\n",
    "\n",
    "logger = logging.getLogger()\n",
    "\n",
    "def copy_file(src: str, dst: str) -> None:\n",
    "    os.makedirs(os.path.dirname(dst), exist_ok=True)\n",
    "    if not os.path.exists(dst):\n",
    "        shutil.copy(src , dst)\n",
    "\n",
    "def gen_yolov5_txt(origin_h: float , \n",
    "                    origin_w: float,\n",
    "                    label_file_path: str, \n",
    "                    txt_file_name: str, \n",
    "                    txt_file_root: str, \n",
    "                    cls_idx: int):\n",
    "    with open(label_file_path, 'r') as f:\n",
    "        data = json.load(f)\n",
    "\n",
    "    os.makedirs(txt_file_root, exist_ok=True)\n",
    "    rects = [label['points'] for label in data['shapes']]\n",
    "    lines = []\n",
    "    for rect in rects:\n",
    "        lt_x, lt_y = rect[0] # left top x, y\n",
    "        rb_x, rb_y = rect[1] # right bottom x, y\n",
    "        center_x = ((lt_x + rb_x) / 2) / origin_w\n",
    "        center_y = ((lt_y + rb_y) / 2) / origin_h\n",
    "        w, h = (rb_x - lt_x) / origin_w, (rb_y - lt_y) / origin_h\n",
    "        w = abs(w)\n",
    "        h = abs(h)\n",
    "        # if w < 0 or h < 0:\n",
    "        #     print(label_file_path)\n",
    "        #     logger.warning(\"W or h is less than 0\")\n",
    "        #     continue\n",
    "        line = [int(cls_idx), center_x, center_y, w, h]\n",
    "        line = [str(element) for element in line]\n",
    "        line = ' '.join(line) + '\\n'\n",
    "        lines.append(line)\n",
    "    with open(os.path.join(txt_file_root, txt_file_name), 'w') as f:\n",
    "        f.writelines(lines)\n",
    "\n",
    "\n",
    "for split_name in ['Train', 'Val']:\n",
    "    data_root = os.path.join('./origin_data', split_name)\n",
    "    new_data_root = os.path.join('./yolov5_data', split_name)\n",
    "\n",
    "    name_idx = 0\n",
    "    for cls_idx, cls in enumerate(class_names):\n",
    "        cls_root = os.path.join(data_root, cls)\n",
    "        for name in tqdm(os.listdir(os.path.join(cls_root, 'image'))):\n",
    "            # Rename and move image\n",
    "            new_name = f'{name_idx}.png'\n",
    "            copy_file(os.path.join(cls_root, 'image', name), \n",
    "                    os.path.join(new_data_root, 'images', new_name))\n",
    "\n",
    "            im = cv2.imread(os.path.join(new_data_root, 'images', new_name))\n",
    "            h, w, c = im.shape\n",
    "            txt_file_name = f'{name_idx}.txt'\n",
    "            txt_file_root = os.path.join(new_data_root, 'label')\n",
    "            label_file_path = os.path.join(cls_root, 'label', name.split('.')[0] + '.json')\n",
    "            gen_yolov5_txt(h, w, label_file_path, txt_file_name, txt_file_root, cls_idx)\n",
    "            name_idx += 1"
   ]
  }
 ],
 "metadata": {
  "kernelspec": {
   "display_name": "yolov5",
   "language": "python",
   "name": "python3"
  },
  "language_info": {
   "codemirror_mode": {
    "name": "ipython",
    "version": 3
   },
   "file_extension": ".py",
   "mimetype": "text/x-python",
   "name": "python",
   "nbconvert_exporter": "python",
   "pygments_lexer": "ipython3",
   "version": "3.7.15"
  },
  "orig_nbformat": 4,
  "vscode": {
   "interpreter": {
    "hash": "64403dee5e0958e81c767fc1b20107f740770bd4aea477e569d2bae5927e4c0f"
   }
  }
 },
 "nbformat": 4,
 "nbformat_minor": 2
}
