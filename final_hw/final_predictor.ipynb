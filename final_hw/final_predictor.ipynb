{
 "cells": [
  {
   "cell_type": "code",
   "execution_count": 1,
   "metadata": {},
   "outputs": [
    {
     "name": "stderr",
     "output_type": "stream",
     "text": [
      "c:\\Users\\user\\anaconda3\\envs\\yolov5\\lib\\site-packages\\tqdm\\auto.py:22: TqdmWarning: IProgress not found. Please update jupyter and ipywidgets. See https://ipywidgets.readthedocs.io/en/stable/user_install.html\n",
      "  from .autonotebook import tqdm as notebook_tqdm\n"
     ]
    }
   ],
   "source": [
    "from yolov5_predictor import Yolov5_Predictor\n",
    "from unet_predictor import UNet_Predictor\n",
    "import cv2\n",
    "import numpy as np\n",
    "import matplotlib.pyplot as plt\n",
    "\n",
    "\n",
    "def iou(box0: np.ndarray, box1: np.ndarray):\n",
    "    \"\"\"\n",
    "    Args:\n",
    "        box0, box1: np.ndarray of shape (4, )\n",
    "    \"\"\"\n",
    "    xy_max = np.minimum(box0[2:], box1[2:])\n",
    "    xy_min = np.maximum(box0[:2], box1[:2])\n",
    "\n",
    "    inter = np.clip(xy_max-xy_min, a_min=0, a_max=np.inf)\n",
    "    inter = inter[0]*inter[1]\n",
    "\n",
    "    area_0 = (box0[2]-box0[0])*(box0[3]-box0[1])\n",
    "    area_1 = (box1[2]-box1[0])*(box1[3]-box1[1])\n",
    "    union = area_0 + area_1- inter\n",
    "    return inter / union\n",
    "\n",
    "class_names = ['powder_uncover', 'powder_uneven', 'scratch']\n",
    "\n",
    "def load_img(img_path: str, binary=False):\n",
    "    if not binary:\n",
    "        return cv2.imread(img_path)\n",
    "    else:\n",
    "        im = cv2.imread(img_path, cv2.IMREAD_GRAYSCALE)\n",
    "        # Binarize\n",
    "        _ , im = cv2.threshold(im, 0, 255, cv2.THRESH_BINARY)\n",
    "        return im\n",
    "\n",
    "def dice_coeff(input: np.ndarray, target: np.ndarray, epsilon: float = 1e-6):\n",
    "    # Average of Dice coefficient for all batches, or for a single mask\n",
    "    assert input.shape == target.shape\n",
    "    assert len(input.shape) == 2\n",
    "\n",
    "    _, input = cv2.threshold(input, 0, 1, cv2.THRESH_BINARY)\n",
    "    input = input.astype(np.int32)\n",
    "    _, target = cv2.threshold(target, 0, 1, cv2.THRESH_BINARY)\n",
    "    target = target.astype(np.int32)\n",
    "\n",
    "    inter = 2 * (input * target).sum()\n",
    "    sets_sum = input.sum() + target.sum()\n",
    "    sets_sum = np.where(sets_sum == 0, inter, sets_sum)\n",
    "\n",
    "    dice = (inter + epsilon) / (sets_sum + epsilon)\n",
    "    return np.mean(dice)\n",
    "\n",
    "class Powder_Spreading_Predictor(object):\n",
    "    def __init__(self, yolo_weight_path:str, \n",
    "                        unet_weight_path:str,\n",
    "                        bilinear=False,\n",
    "                        crop_size=(320,320),\n",
    "                        device:str = 'cpu'):\n",
    "        self.yolov5_predictor = Yolov5_Predictor(yolo_weight_path, device=device)\n",
    "        self.unet_predictor = UNet_Predictor(unet_weight_path, bilinear=bilinear, device=device)\n",
    "        self.crop_size = crop_size\n",
    "    def predict(self, img_path: str):\n",
    "        im = cv2.imread(img_path)\n",
    "        im_h, im_w , c = im.shape\n",
    "        crop_imgs, box_infos, cls_idx = self.yolov5_predictor.predict_crop(img_path)\n",
    "        cls_name = class_names[cls_idx]\n",
    "        predicted_mask = np.zeros((im_h, im_w))\n",
    "        for crop_img, box_info in zip(crop_imgs, box_infos):\n",
    "            box_w, box_h, x1, y1, x2, y2 = box_info\n",
    "            origin_size = (box_w, box_h)\n",
    "\n",
    "            resized_crop_img = cv2.resize(crop_img, self.crop_size) \n",
    "            predict_mask = self.unet_predictor.predict(cv2.cvtColor(resized_crop_img, cv2.COLOR_BGR2RGB), to_img=True) # Unet use Pillow, so we need to convert from BGR to RGB\n",
    "            predict_mask = cv2.resize(predict_mask, origin_size, interpolation=cv2.INTER_NEAREST)\n",
    "            predicted_mask[y1:y2, x1:x2] = predict_mask\n",
    "        return predicted_mask\n",
    "    "
   ]
  },
  {
   "cell_type": "code",
   "execution_count": 7,
   "metadata": {},
   "outputs": [
    {
     "name": "stderr",
     "output_type": "stream",
     "text": [
      "Fusing layers... \n",
      "Model summary: 212 layers, 20861016 parameters, 0 gradients, 47.9 GFLOPs\n"
     ]
    }
   ],
   "source": [
    "import cv2\n",
    "import numpy as np\n",
    "\n",
    "yolo_weight = './yolov5/runs/train/[2022-12-29-1549]960_bs16_med_E400/weights/best.pt'\n",
    "unet_weight = './UNet/ckp_fold2/checkpoint_epoch40.pth'\n",
    "device = 'cuda'\n",
    "predictor = Powder_Spreading_Predictor(yolo_weight, unet_weight, device=device, bilinear=True)"
   ]
  },
  {
   "cell_type": "code",
   "execution_count": 8,
   "metadata": {},
   "outputs": [
    {
     "name": "stderr",
     "output_type": "stream",
     "text": [
      "100%|██████████| 150/150 [01:02<00:00,  2.40it/s]"
     ]
    },
    {
     "name": "stdout",
     "output_type": "stream",
     "text": [
      "0.9096528643850424\n"
     ]
    },
    {
     "name": "stderr",
     "output_type": "stream",
     "text": [
      "\n"
     ]
    }
   ],
   "source": [
    "import os\n",
    "from os.path import join\n",
    "from tqdm import tqdm\n",
    "split = 'Val'\n",
    "data_root = './data/yolov5/{}'.format(split)\n",
    "\n",
    "dice_scores = []\n",
    "for img_name in tqdm(os.listdir(join(data_root, 'images'))):\n",
    "    img_path = join(data_root, 'images', img_name)\n",
    "    mask_path = join(data_root, 'masks', img_name)\n",
    "    \n",
    "    predicted_mask = predictor.predict(img_path)\n",
    "    gt_mask = load_img(mask_path ,binary=True)\n",
    "    dice_scores.append(dice_coeff(predicted_mask, gt_mask))\n",
    "print(np.mean(dice_scores))"
   ]
  },
  {
   "cell_type": "code",
   "execution_count": null,
   "metadata": {},
   "outputs": [],
   "source": [
    "import os\n",
    "from os.path import join\n",
    "from tqdm import tqdm\n",
    "split = 'Val'\n",
    "data_root = './data/yolov5/{}'.format(split)\n",
    "\n",
    "dice_scores = []\n",
    "for img_name in tqdm(os.listdir(join(data_root, 'images'))):\n",
    "    img_path = join(data_root, 'images', img_name)\n",
    "    mask_path = join(data_root, 'masks', img_name)\n",
    "    \n",
    "    predicted_mask = predictor.predict(img_path)\n",
    "    gt_mask = load_img(mask_path ,binary=True)\n",
    "    dice_scores.append(dice_coeff(predicted_mask, gt_mask))\n",
    "print(np.mean(dice_scores))"
   ]
  },
  {
   "cell_type": "code",
   "execution_count": null,
   "metadata": {},
   "outputs": [],
   "source": [
    "import matplotlib.pyplot as plt\n",
    "import os\n",
    "from os.path import join\n",
    "%matplotlib inline\n",
    "\n",
    "\n",
    "\n",
    "predictor.unet_predictor.threshold = 0.5\n",
    "split = 'Val'\n",
    "\n",
    "\n",
    "for i in range(10, 20):\n",
    "    img_name = '/scratch_{}.png'.format(i)\n",
    "\n",
    "    mask_path = './data/yolov5/{}/masks/{}'.format(split, img_name)\n",
    "    img_path = './data/yolov5/{}/images/{}'.format(split, img_name)\n",
    "\n",
    "    label_txt = './data/unet/{}/labels/{}.txt'.format(split, img_name.split('.')[0])\n",
    "    with open(label_txt, 'r') as f:\n",
    "        lines = f.readlines()\n",
    "    \n",
    "    predicted_mask = predictor.predict(img_path)\n",
    "    gt_mask = load_img(mask_path, binary=True)\n",
    "\n",
    "\n",
    "    print(dice_coeff(predicted_mask, gt_mask))\n",
    "    #   \n",
    "    # im_h, im_w = result.shape\n",
    "    # gt_unet_mask = np.zeros((im_h, im_w))\n",
    "    # for line in lines:\n",
    "    #     mask_name = line.split(',')[0]\n",
    "    #     box_w, box_h, x1, y1, x2, y2 = [int(c) for c in line.split(',')[1:]]\n",
    "    #     mask = load_img('./data/unet/{}/masks/{}'.format(split, mask_name), True)\n",
    "    #     mask = cv2.resize(mask, (box_w, box_h), interpolation=cv2.INTER_NEAREST)\n",
    "    #     gt_unet_mask[y1:y2, x1:x2] = mask\n",
    "    \n",
    "\n",
    "    # gt_mask = load_img(mask_path, binary=True)\n",
    "\n",
    "    # ax = plt.subplot(1,3,1)\n",
    "    # ax.imshow(result)\n",
    "\n",
    "    # ax = plt.subplot(1,3,2)\n",
    "    # ax.imshow(gt_unet_mask)\n",
    "\n",
    "\n",
    "    # ax = plt.subplot(1,3,3)\n",
    "    # ax.imshow(gt_mask)\n",
    "\n",
    "    # plt.show()"
   ]
  },
  {
   "cell_type": "code",
   "execution_count": null,
   "metadata": {},
   "outputs": [],
   "source": []
  },
  {
   "cell_type": "code",
   "execution_count": null,
   "metadata": {},
   "outputs": [],
   "source": [
    "yolov5_predictor = Yolov5_Predictor(yolo_weight, device=device)\n",
    "unet_predictor = UNet_Predictor(unet_weight, device=device)"
   ]
  },
  {
   "cell_type": "code",
   "execution_count": null,
   "metadata": {},
   "outputs": [],
   "source": [
    "im = cv2.imread(img_path)\n",
    "im_h, im_w , c = im.shape\n",
    "crop_imgs, box_infos = yolov5_predictor.predict_crop(img_path)\n",
    "predicted_mask = np.zeros((im_h, im_w))"
   ]
  },
  {
   "cell_type": "code",
   "execution_count": null,
   "metadata": {},
   "outputs": [],
   "source": [
    "resized_size = (320, 320)\n",
    "for crop_img, box_info in zip(crop_imgs, box_infos):\n",
    "    box_w, box_h, x1, y1, x2, y2 = box_info\n",
    "    origin_size = (box_w, box_h)\n",
    "    predict_mask = unet_predictor.predict(cv2.cvtColor(cv2.resize(crop_img, resized_size), cv2.COLOR_BGR2RGB), to_img=True)\n",
    "\n",
    "    plt.imshow(predict_mask)\n",
    "    plt.show()"
   ]
  },
  {
   "cell_type": "code",
   "execution_count": 3,
   "metadata": {},
   "outputs": [
    {
     "name": "stdout",
     "output_type": "stream",
     "text": [
      "d:\\研究所課程\\孫永年影像處理\\homework\\ncku_image_processing\\final_hw\\UNet\\UNet\n"
     ]
    }
   ],
   "source": [
    "%cd UNet"
   ]
  },
  {
   "cell_type": "code",
   "execution_count": 6,
   "metadata": {},
   "outputs": [
    {
     "name": "stderr",
     "output_type": "stream",
     "text": [
      "python: can't open file 'my_train_k_fold.py': [Errno 2] No such file or directory\n"
     ]
    }
   ],
   "source": [
    "!python my_train_k_fold.py --k-fold 3 --epoch 60 --bilinear"
   ]
  },
  {
   "cell_type": "code",
   "execution_count": null,
   "metadata": {},
   "outputs": [],
   "source": [
    "! python my_train.py --k-fold 4 --epoch 60 --bilinear"
   ]
  }
 ],
 "metadata": {
  "kernelspec": {
   "display_name": "yolov5",
   "language": "python",
   "name": "python3"
  },
  "language_info": {
   "codemirror_mode": {
    "name": "ipython",
    "version": 3
   },
   "file_extension": ".py",
   "mimetype": "text/x-python",
   "name": "python",
   "nbconvert_exporter": "python",
   "pygments_lexer": "ipython3",
   "version": "3.7.15"
  },
  "orig_nbformat": 4,
  "vscode": {
   "interpreter": {
    "hash": "64403dee5e0958e81c767fc1b20107f740770bd4aea477e569d2bae5927e4c0f"
   }
  }
 },
 "nbformat": 4,
 "nbformat_minor": 2
}
