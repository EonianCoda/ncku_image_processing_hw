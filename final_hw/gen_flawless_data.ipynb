{
 "cells": [
  {
   "cell_type": "code",
   "execution_count": null,
   "metadata": {},
   "outputs": [],
   "source": [
    "raw_data_root = './data/raw/Train/powder_uncover'"
   ]
  },
  {
   "cell_type": "code",
   "execution_count": null,
   "metadata": {},
   "outputs": [],
   "source": [
    "import matplotlib.pyplot as plt\n",
    "import cv2\n",
    "import os\n",
    "from os.path import join\n",
    "import json\n",
    "class_names = ['powder_uncover', 'powder_uneven', 'scratch']\n",
    "data_root = './data/raw'\n",
    "new_data_root = './data/yolov5'\n",
    "data_split = 'Train'\n",
    "split_folder = join(data_root, data_split)\n",
    "new_split_folder = join(new_data_root, data_split)\n",
    "name_idx = 0\n",
    "for cls_idx, cls_name in enumerate(class_names):\n",
    "    img_folder = join(split_folder, cls_name, 'image')\n",
    "    mask_folder = join(split_folder, cls_name, 'mask')\n",
    "    label_folder = join(split_folder, cls_name, 'label')\n",
    "    for img_name in os.listdir(img_folder):\n",
    "        raw_name = img_name.split('.')[0]\n",
    "        rgb_im = cv2.imread(join(img_folder, img_name))\n",
    "        mask_im = cv2.imread(join(mask_folder, img_name))\n",
    "        labels = json.loads(open(join(label_folder, f'{raw_name}.json')).read())\n",
    "        rects = [label['points'] for label in labels['shapes']]\n",
    "        break\n",
    "    break\n",
    "import numpy as np\n",
    "def gen_color(idx):\n",
    "    cv2.applyColorMap(np.array([0], dtype=np.uint8), cv2.COLORMAP_HSV)\n",
    "\n",
    "for c_i, rect in enumerate(rects):\n",
    "    c_i = int((255 // len(rects)) * c_i)\n",
    "    color = cv2.applyColorMap(np.array([c_i], dtype=np.uint8), cv2.COLORMAP_HSV).flatten()\n",
    "    color = tuple([int(c) for c in color])\n",
    "    image = cv2.rectangle(rgb_im, np.array(rect[0], dtype=int), np.array(rect[1], dtype=int), color, thickness=5)\n",
    "# Displaying the image \n",
    "cv2.imshow('bbox',image) "
   ]
  },
  {
   "cell_type": "code",
   "execution_count": 1,
   "metadata": {},
   "outputs": [
    {
     "name": "stderr",
     "output_type": "stream",
     "text": [
      "100%|██████████| 100/100 [01:42<00:00,  1.02s/it]\n",
      "100%|██████████| 100/100 [01:40<00:00,  1.01s/it]\n",
      "100%|██████████| 100/100 [00:10<00:00,  9.49it/s]\n",
      "100%|██████████| 50/50 [00:50<00:00,  1.01s/it]\n",
      "100%|██████████| 50/50 [00:48<00:00,  1.03it/s]\n",
      "100%|██████████| 50/50 [00:04<00:00, 10.11it/s]\n"
     ]
    }
   ],
   "source": [
    "import matplotlib.pyplot as plt\n",
    "import cv2\n",
    "import os\n",
    "from os.path import join\n",
    "import json\n",
    "import numpy as np\n",
    "import math\n",
    "from tqdm import tqdm\n",
    "class_names = ['powder_uncover', 'powder_uneven', 'scratch']\n",
    "data_root = './data/raw'\n",
    "new_data_root = './data/background'\n",
    "data_split = 'Train'\n",
    "\n",
    "\n",
    "name_idx = 0\n",
    "for data_split in ['Train', 'Val']:\n",
    "    split_folder = join(data_root, data_split)\n",
    "    new_split_folder = join(new_data_root, data_split)\n",
    "    for cls_idx, cls_name in enumerate(class_names):\n",
    "        img_folder = join(split_folder, cls_name, 'image')\n",
    "        mask_folder = join(split_folder, cls_name, 'mask')\n",
    "        label_folder = join(split_folder, cls_name, 'label')\n",
    "        new_img_folder = join(new_split_folder, 'images')\n",
    "        os.makedirs(new_img_folder, exist_ok=True)\n",
    "        for i, img_name in enumerate(tqdm(os.listdir(img_folder))):\n",
    "            raw_name = img_name.split('.')[0]\n",
    "            rgb_im = cv2.imread(join(img_folder, img_name))\n",
    "            mask_im = cv2.imread(join(mask_folder, img_name))\n",
    "            h, w, c = rgb_im.shape\n",
    "            labels = json.loads(open(join(label_folder, f'{raw_name}.json')).read())\n",
    "            rects = np.array([label['points'] for label in labels['shapes']]).astype(int)\n",
    "            \n",
    "            x_coord = rects[..., 0]\n",
    "            y_coord = rects[..., 1]\n",
    "            max_x, max_y = np.max(x_coord), np.max(y_coord)\n",
    "            min_x, min_y = np.min(x_coord), np.min(y_coord)\n",
    "\n",
    "            # (left, right, top, bottom)\n",
    "            block_range = [(0, min_x, h), (max_x, w, h), (0, min_y, w), (max_y, h, w)] #(min, max, Height or width)\n",
    "            areas = [(r[1] - r[0]) * r[2] for r in block_range]\n",
    "            target_idx = np.argmax(areas)\n",
    "            target_block = block_range[target_idx][:2]\n",
    "\n",
    "            # left or right\n",
    "            if target_idx <= 1:\n",
    "                min_x, max_x = target_block\n",
    "                block = rgb_im[:,min_x: max_x, :]\n",
    "                width = max_x - min_x\n",
    "                if width <= 1:\n",
    "                    break\n",
    "                new_img = np.repeat(block, math.ceil(w / width), axis=1)\n",
    "                new_img = new_img[:,:w,:]\n",
    "            else:\n",
    "                min_y, max_y = target_block\n",
    "                block = rgb_im[min_y: max_y, ...]\n",
    "                height = max_y - min_y\n",
    "                new_img = np.repeat(block, math.ceil(h / height), axis=0)\n",
    "                new_img = new_img[:h,:,:]\n",
    "            cv2.imwrite(join(new_img_folder, f'{name_idx}.png'), new_img)\n",
    "            name_idx += 1"
   ]
  },
  {
   "cell_type": "code",
   "execution_count": 14,
   "metadata": {},
   "outputs": [],
   "source": [
    "from sklearn.decomposition import PCA"
   ]
  },
  {
   "cell_type": "code",
   "execution_count": 53,
   "metadata": {},
   "outputs": [],
   "source": [
    "import cv2\n",
    "from os.path import join\n",
    "import numpy as np\n",
    "\n",
    "from sklearn.cluster import KMeans\n",
    "bg_img_root = './data/background/Train/images'\n",
    "\n",
    "feats = []\n",
    "for img_name in os.listdir(bg_img_root):\n",
    "    im = cv2.imread(join(bg_img_root, img_name))\n",
    "    hists = []\n",
    "    for i in range(3):\n",
    "        hist = cv2.calcHist([im], [i],  None, [256], [0,256])\n",
    "        hists.append(hist)\n",
    "    feat = np.stack(hists, axis=0).flatten()\n",
    "    feat /= np.sum(feat)\n",
    "    feats.append(feat)\n",
    "pca = PCA(n_components=256)\n",
    "transformed_feats = pca.fit_transform(feats)\n",
    "\n",
    "num_img = 20\n",
    "cluster = KMeans(n_clusters=num_img)\n",
    "cluster_indices = cluster.fit_predict(transformed_feats)\n",
    "distance = cluster.fit_transform(transformed_feats)\n",
    "indices = np.arange(len(cluster_indices))\n",
    "bg_img_index = []\n",
    "for cluster_i in range(num_img):\n",
    "    index = indices[cluster_indices == cluster_i]\n",
    "    bg_img_index.append(index[np.argmin(distance[index, cluster_i])])"
   ]
  },
  {
   "cell_type": "code",
   "execution_count": 55,
   "metadata": {},
   "outputs": [],
   "source": [
    "import shutil\n",
    "new_bg_img_folder = './data/selected_background/Train/images'\n",
    "os.makedirs(new_bg_img_folder, exist_ok=True)\n",
    "for bg_idx in bg_img_index:\n",
    "    img_name = f'{bg_idx}.png'\n",
    "    shutil.copy(join(bg_img_root, img_name), join(new_bg_img_folder, img_name))"
   ]
  },
  {
   "cell_type": "code",
   "execution_count": null,
   "metadata": {},
   "outputs": [],
   "source": []
  }
 ],
 "metadata": {
  "kernelspec": {
   "display_name": "yolov5",
   "language": "python",
   "name": "python3"
  },
  "language_info": {
   "codemirror_mode": {
    "name": "ipython",
    "version": 3
   },
   "file_extension": ".py",
   "mimetype": "text/x-python",
   "name": "python",
   "nbconvert_exporter": "python",
   "pygments_lexer": "ipython3",
   "version": "3.7.15"
  },
  "orig_nbformat": 4,
  "vscode": {
   "interpreter": {
    "hash": "fd16dc1111ddceff98731c014c74dd11ea969560afdf08ab2d54ac6e8ba7fbdb"
   }
  }
 },
 "nbformat": 4,
 "nbformat_minor": 2
}
